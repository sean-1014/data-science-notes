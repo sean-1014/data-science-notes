{
 "cells": [
  {
   "cell_type": "code",
   "execution_count": 1,
   "metadata": {},
   "outputs": [],
   "source": [
    "import numpy as np\n",
    "import scipy.stats as stats\n",
    "import matplotlib.pyplot as plt\n",
    "\n",
    "%matplotlib inline"
   ]
  },
  {
   "cell_type": "markdown",
   "metadata": {},
   "source": [
    "# Logistic Regression\n",
    "\n",
    "The logistic model uses a logistic function to model a binary dependent variable ($Y\\in\\{0,1\\}$). A logistic regression tries to model the parameters of the logistic function ($\\theta$, a vector which contains the betas and intercept)."
   ]
  },
  {
   "cell_type": "markdown",
   "metadata": {},
   "source": [
    "***"
   ]
  },
  {
   "cell_type": "markdown",
   "metadata": {},
   "source": [
    "## Some Important Concepts\n",
    "\n",
    "### Odds\n",
    "\n",
    "$$\\displaystyle{odds = \\frac{p}{1-p}}$$"
   ]
  },
  {
   "cell_type": "code",
   "execution_count": 2,
   "metadata": {},
   "outputs": [
    {
     "data": {
      "text/plain": [
       "1.0"
      ]
     },
     "execution_count": 2,
     "metadata": {},
     "output_type": "execute_result"
    }
   ],
   "source": [
    "p = 0.5\n",
    "odds = p/(1-p)\n",
    "odds"
   ]
  },
  {
   "cell_type": "markdown",
   "metadata": {},
   "source": [
    "When $p=0.5$, we have what is called *even odds*."
   ]
  },
  {
   "cell_type": "code",
   "execution_count": 3,
   "metadata": {},
   "outputs": [
    {
     "data": {
      "text/plain": [
       "0.3333333333333333"
      ]
     },
     "execution_count": 3,
     "metadata": {},
     "output_type": "execute_result"
    }
   ],
   "source": [
    "p = 0.25\n",
    "odds = p/(1-p)\n",
    "odds"
   ]
  },
  {
   "cell_type": "markdown",
   "metadata": {},
   "source": [
    "If $p < 0.5$, $odds$ is in $(0,1)$. If $p > 0.5$, $odds$ is in $(1,\\infty)$. But there is an inbalance of sorts because the space for worse odds is restricted into a smaller space than the better odds. So for example, if you're six times as likely to lose as you are to win, then $p=\\frac{1}{7}$ and $odds=0.1\\bar{6}$. But if you are six times as likely to win as you are to lose, $p=\\frac{6}{7}$ and $odds=6$.\n",
    "\n",
    "### Log Odds (Logit Function)\n",
    "\n",
    "$$\\displaystyle{\\ln(odds) = \\ln\\left(\\frac{p}{1-p}\\right)}$$\n",
    "\n",
    "Taking the log of the odds puts the two intervals on the same scale ($\\ln(\\frac{1}{6}) = -\\ln(6)$). The magnitudes are equal, just opposite in direction. This is true for any $p$."
   ]
  },
  {
   "cell_type": "code",
   "execution_count": 4,
   "metadata": {},
   "outputs": [
    {
     "data": {
      "image/png": "[encoded data removed]",
      "text/plain": [
       "<Figure size 432x288 with 1 Axes>"
      ]
     },
     "metadata": {
      "needs_background": "light"
     },
     "output_type": "display_data"
    }
   ],
   "source": [
    "p = np.arange(1e-4,1-1e-4,.001)\n",
    "y = np.log(p/(1-p))\n",
    "\n",
    "plt.axhline(y=0,color='k')\n",
    "plt.axvline(x=0,color='k')\n",
    "plt.axvline(x=0,linestyle='--',color='r',linewidth=3)\n",
    "plt.axvline(x=1,linestyle='--',color='r',linewidth=3)\n",
    "plt.plot(p,y)\n",
    "plt.xlabel('$p$')\n",
    "plt.ylabel('Log Odds')\n",
    "plt.title('Logit Function')\n",
    "plt.show()"
   ]
  },
  {
   "cell_type": "markdown",
   "metadata": {},
   "source": [
    "The plot looks as expected. When $p=0.5$, the log odds is $0$ because $odds=1$. The symmetry between the better and worse log-odds demonstrated earlier is also visible in the plot (same magnitude, opposite direction)."
   ]
  },
  {
   "cell_type": "code",
   "execution_count": 5,
   "metadata": {},
   "outputs": [
    {
     "data": {
      "image/png": "[encoded data removed]",
      "text/plain": [
       "<Figure size 432x288 with 1 Axes>"
      ]
     },
     "metadata": {
      "needs_background": "light"
     },
     "output_type": "display_data"
    }
   ],
   "source": [
    "p = np.random.random(10000)\n",
    "logodds = np.log(p/(1-p))\n",
    "_,bins,_ = plt.hist(logodds,bins=50,density=True)\n",
    "mu = logodds.mean()\n",
    "std = logodds.std()\n",
    "plt.plot(bins,stats.norm.pdf(bins,mu,std))\n",
    "plt.xlabel('Log Odds')\n",
    "plt.yticks([])\n",
    "plt.ylabel('Frequency')\n",
    "plt.title('Distribution of Log Odds')\n",
    "plt.show()"
   ]
  },
  {
   "cell_type": "markdown",
   "metadata": {},
   "source": [
    "When randomly drawing probabilities, log odds will tend toward a normal distribution. This will be important later on.\n",
    "\n",
    "### Odds Ratios and Log of Odds Ratios\n",
    "\n",
    "As the name indicates, an odds ratio is a ratio of odds ($Odds\\ Ratio = \\displaystyle{\\frac{odds_{event_1}}{odds_{event_2}}}$). It can be thought of as a measure of effect size.\n",
    "\n",
    "Like in the odds, if $event_1$ is less likely to happen, the odds ratio is in $(0,1)$. The odds ratio is $1$ if the odds of both events are equal. It is in $(1,\\infty)$ if $event_1$ is more likely to happen. Taking the log of the odds ratio has the same effect of creating the symmetry seen in the log odds. And like the log odds, the log odds ratios also tend toward a normal distribution.\n",
    "\n",
    "#### Example\n",
    "\n",
    "Given the example below:\n",
    "<table>\n",
    "    <thead>\n",
    "        <tr><td colspan=\"2\"></td><th colspan=\"2\">Has Cancer</th></tr>\n",
    "        <tr><td colspan=\"2\"></td><th>Yes</th><th>No</th></tr>\n",
    "    </thead>\n",
    "    <tbody>\n",
    "        <tr><th rowspan=\"2\" style=\"text-align:left\">Has<br>Mutated<br>Gene</th>\n",
    "            <th style=\"border-right:1px solid black\">Yes</th>\n",
    "            <td>23</td><td>117</td>\n",
    "        </tr>\n",
    "        <tr><th style=\"border-right:1px solid black\">No</th>\n",
    "            <td>6</td><td>210</td>\n",
    "        </tr>\n",
    "    </tbody>\n",
    "</table>\n",
    "\n",
    "If we wanted to measure the effect of carrying a gene on having cancer, a way to measure that would be through the odds ratio:\n",
    "\n",
    "$$\\displaystyle{Odds\\ Ratio = \\frac{odds_{\\text{gene carrier has cancer}}}{odds_{\\text{person without the gene has cancer}}}=\n",
    "\\frac{\\frac{23}{117}}{\\frac{6}{210}}} = 6.88$$<br>\n",
    "$$\\ln(6.88) = 1.93$$\n",
    "\n",
    "The odds are 6.88 times greater that someone with the mutated gene has cancer. A large odds ratio means that the mutated gene might be a good predictor of cancer. Smaller values mean the predictor is not a good predictor. However, this tells us nothing of statistical significance.\n",
    "\n",
    "The Wald Test takes advantage of the fact demonstrated earlier that log odds and log odds ratios tend toward a normal distribution. It checks how many standard deviations away from $0$ the log odds ratio is. If this is greater than $2$, the p-value calculated would be less than $0.05$.\n",
    "\n",
    "### Inverse Logit / Logistic Function\n",
    "\n",
    "In a logistic regression, we want the range to be in $[0,1]$, not the domain, because we want to predict $p$. Also, one of the assumptions of logistic regression is that the predictors and the log odds are linearly related ($\\log(odds) = \\beta_0 + \\beta_1x_1+\\dots+\\beta_nx_n$). So we have to find the inverse of the logit function to get the formula that returns a probability given the log odds.\n",
    "\n",
    "$\\ln(odds) = \\ln\\left(\\frac{p}{1-p}\\right)$\n",
    "\n",
    "$e^{\\ln(odds)} = \\frac{p}{1-p}$\n",
    "\n",
    "$e^{\\ln(odds)}(1-p) = p$\n",
    "\n",
    "$e^{\\ln(odds)}-e^{\\ln(odds)}p - p = 0$\n",
    "\n",
    "$e^{\\ln(odds)}-p(e^{\\ln(odds)}+1) = 0$\n",
    "\n",
    "$e^{\\ln(odds)} = p(e^{\\ln(odds)}+1)$\n",
    "\n",
    "$\\displaystyle{p = \\frac{e^{\\ln(odds)}}{e^{\\ln(odds)}+1}}$\n",
    "\n",
    "$$\\displaystyle{logit^{-1}(\\alpha) = logistic(\\alpha) = \\frac{e^{\\alpha}}{e^{\\alpha}+1} = \\frac{1}{1+e^{-\\alpha}}}$$\n",
    "\n",
    "This function can take in the log odds (equated to $\\beta_0 + \\beta_1x_1+\\dots+\\beta_nx_n$) and return a predicted probability $\\hat{p}$."
   ]
  },
  {
   "cell_type": "code",
   "execution_count": 6,
   "metadata": {},
   "outputs": [
    {
     "data": {
      "image/png": "[encoded data removed]",
      "text/plain": [
       "<Figure size 432x288 with 1 Axes>"
      ]
     },
     "metadata": {
      "needs_background": "light"
     },
     "output_type": "display_data"
    }
   ],
   "source": [
    "alpha = np.arange(-10,10,0.5)\n",
    "y = np.exp(alpha)/(np.exp(alpha)+1)\n",
    "\n",
    "plt.axhline(y=0,color='k')\n",
    "plt.axvline(x=0,color='k')\n",
    "plt.axhline(y=0,linestyle='--',color='r',linewidth=3)\n",
    "plt.axhline(y=1,linestyle='--',color='r',linewidth=3)\n",
    "plt.plot(alpha,y)\n",
    "plt.title('Inverse Logit Function')\n",
    "plt.show()"
   ]
  },
  {
   "cell_type": "markdown",
   "metadata": {},
   "source": [
    "This is what the logistic function looks like."
   ]
  },
  {
   "cell_type": "markdown",
   "metadata": {},
   "source": [
    "***"
   ]
  },
  {
   "cell_type": "markdown",
   "metadata": {},
   "source": [
    "## Assumptions of Logistic Regression\n",
    "1. The dependent variable must be binary.\n",
    "2. The samples must be independent.\n",
    "3. There must be little multicollinearity between the predictors.\n",
    "    - Perfect multicollinearity makes estimation impossible\n",
    "    - Strong multicollinearity makes estimates imprecise\n",
    "4. The dependent and independent variables need not be related linearly, but the independent variables are related linearly to the log odds.\n",
    "\n",
    "## Hypothesis Representation\n",
    "\n",
    "$h_\\theta(x) = \\displaystyle{\\frac{1}{1+e^{-\\theta^T x}}}$, where\n",
    "\n",
    "- $\\theta^T x = \\beta_0 + \\beta_1x_1 + \\beta_2x_x + \\dots + \\beta_nx_n$\n",
    "    - $\\beta_0$ is the intercept\n",
    "    - $\\beta_1,\\dots, \\beta_n$ are the \"effects\" of the predictors\n",
    "    - $x=\\begin{bmatrix}1&x_1&\\dots&x_n\\end{bmatrix}^T$\n",
    "        - $x_1,\\dots,x_n$ are predictors/features\n",
    "        - $1$ is a constant term to accomodate the intercept term $\\beta_0$\n",
    "\n",
    "The goal of training a logistic regression model is to estimate the parameters $\\theta$.\n",
    "\n",
    "### Interpreting the Parameters\n",
    "$\\beta_0$ is the intercept. This can be interpreted as the log odds when all other predictors are $0$. This may not always have an intuitive/real-world interpretation depending on the nature of the data we're working with (e.g. if predictors are weight and height, then the intercept doesn't really tell us anything because there will never be data points with no weight and no height).\n",
    "\n",
    "$\\beta_1\\dots\\beta_n$ tell us the change in log odds as we move one unit up in the corresponding predictors $x_1\\dots x_n$. For example, if $\\beta_1 = 1.3$ and $x_1$ is weight in kg, then this tells us that the log odds of being in category 1 ($y=1$) changes by that amount with every 1 kg increase when all other variables are held constant. Equivalently, with every 1 kg increase, the effect on the odds is $e^{1.3} \\approx 3.67$, which means the odds increase by $267\\%$.\n",
    "\n",
    "## Likelihood Function\n",
    "\n",
    "$$h_\\theta(x) = Pr(y=1|x;\\theta)$$\n",
    "\n",
    "The logistic regression model $h_\\theta(x)$ gives the probability that $y=1$ given $x$ and the parameters $\\theta$. From this, we know that $Pr(y=0|x;\\theta) = 1-h_\\theta(x)$. Using an exponentiation trick, we can get $Pr(y|x;\\theta)$.\n",
    "\n",
    "$$Pr(y|x;\\theta) = h_\\theta(x)^{y}(1-h_\\theta(x))^{(1-y)}$$\n",
    "\n",
    "If we assume the data points are Bernoulli distributed,\n",
    "\n",
    "$$\\begin{align*}\n",
    "\\mathcal{L}(\\theta|x) &= \\displaystyle{\\prod_i}Pr(y_i|x_i;\\theta)\\\\\n",
    "&= \\displaystyle{\\prod_i}h_\\theta(x_i)^{y_i}(1-h_\\theta(x_i))^{(1-y_i)}\n",
    "\\end{align*}$$\n",
    "\n",
    "The log-likelihood function is:\n",
    "\n",
    "$$\\ell(\\theta|x) = \\displaystyle{\\sum_i}[y_ilog(h_\\theta(x_i))+(1-y_i)log(1-h_\\theta(x_i))]$$\n",
    "\n",
    "## Negative Log-Likelihood as a Loss Function\n",
    "\n",
    "The loss function is a function that measures how far off a prediction is from the true label. The negative log-likelihood can serve as a loss function. The loss function below, when applied to a single data point, tells us how close the prediction is to the true label.\n",
    "\n",
    "$Loss(\\hat{y},y) = -(ylog(\\hat{y})+(1-y)log(1-\\hat{y}))$, where\n",
    "\n",
    "- $\\hat{y} = h_\\theta(x)$ is the logistic regression model's prediction given $x$ (I use $\\hat{y}$ to simplify the notation)\n",
    "- $y$ is the true label of the data point\n",
    "\n",
    "If $y=1$, the second term cancels out, so $Loss(\\hat{y},y) = -log(\\hat{y})$. On the other hand, if $y=0$, the first term cancels out, so $Loss(\\hat{y},y) = -log(1-\\hat{y})$\n",
    "\n",
    "### $y=1$\n",
    "\n",
    "When $y=1$, we want to penalize any predictions that are close to 0 and reward those that are close to 1. The plot below shows that $Loss = 0$ when $\\hat{y} = 1$, but $\\displaystyle{\\lim_{\\hat{y}\\to 0}} Loss = +\\infty$."
   ]
  },
  {
   "cell_type": "code",
   "execution_count": 7,
   "metadata": {},
   "outputs": [
    {
     "data": {
      "image/png": "[encoded data removed]",
      "text/plain": [
       "<Figure size 432x288 with 1 Axes>"
      ]
     },
     "metadata": {
      "needs_background": "light"
     },
     "output_type": "display_data"
    }
   ],
   "source": [
    "y_hat = np.arange(1e-4,1-1e-4,.001)\n",
    "loss = -np.log(y_hat)\n",
    "\n",
    "plt.axvline(x=0,color='k')\n",
    "plt.axhline(y=0,color='k')\n",
    "plt.axvline(x=0,linestyle='--',color='r',linewidth=3)\n",
    "plt.plot(y_hat,loss)\n",
    "plt.title('Loss ($y=1$)')\n",
    "plt.show()"
   ]
  },
  {
   "cell_type": "markdown",
   "metadata": {},
   "source": [
    "### $y=0$\n",
    "\n",
    "When $y=0$, we want to penalize any predictions that are close to 1 and reward those that are close to 0. The plot below shows that $Loss = 0$ when $\\hat{y} = 0$, but $\\displaystyle{\\lim_{\\hat{y}\\to 1}} Loss = +\\infty$."
   ]
  },
  {
   "cell_type": "code",
   "execution_count": 8,
   "metadata": {},
   "outputs": [
    {
     "data": {
      "image/png": "[encoded data removed]",
      "text/plain": [
       "<Figure size 432x288 with 1 Axes>"
      ]
     },
     "metadata": {
      "needs_background": "light"
     },
     "output_type": "display_data"
    }
   ],
   "source": [
    "y_hat = np.arange(1e-4,1-1e-4,.001)\n",
    "loss = -np.log(1-y_hat)\n",
    "\n",
    "plt.axvline(x=0,color='k')\n",
    "plt.axhline(y=0,color='k')\n",
    "plt.axvline(x=1,linestyle='--',color='r',linewidth=3)\n",
    "plt.plot(y_hat,loss)\n",
    "plt.title('Loss ($y=0$)')\n",
    "plt.show()"
   ]
  },
  {
   "cell_type": "markdown",
   "metadata": {},
   "source": [
    "## Cost Function\n",
    "\n",
    "For the whole model, we can minimize the cost function by minimizing the sum of the loss across all data points. \n",
    "\n",
    "$$\\begin{align*}\n",
    "Cost &= \\displaystyle{\\frac{1}{m}}\\displaystyle{\\sum_{i=1}^{m}}Loss(\\hat{y}_i,y_i)\\\\\n",
    "&= \\displaystyle{\\frac{1}{m}}\\displaystyle{\\sum_{i=1}^{m}}-[y_ilog(\\hat{y}_i)+(1-y_i)log(1-\\hat{y}_i)] \\\\\n",
    "&= -\\displaystyle{\\frac{1}{m}}\\displaystyle{\\sum_{i=1}^{m}}[y_ilog(\\hat{y}_i)+(1-y_i)log(1-\\hat{y}_i)]\n",
    "\\end{align*}$$\n",
    "\n",
    "This cost function will be minimized by optimization methods like gradient descent.\n",
    "\n",
    "## Multinomial Logistic Regression\n",
    "\n",
    "In a $K$-class classification problem, $K-1$ logistic regression models could be put together to solve the problem. The $K^{\\text{th}}$ class is used as a reference class so we don't need that last model. The choice of reference class is arbitrary. All that matters is that we are consistent. Now the target variable $Y \\in \\{1,2,\\dots,K\\}$.\n",
    "\n",
    "$$\\ln\\displaystyle{\\frac{Pr(Y=1|X=x)}{Pr(Y=K|X=x)}}=\\beta_{10}+\\beta_{11}x_1+\\dots+\\beta_{1n}x_n$$<br>\n",
    "$$\\ln\\displaystyle{\\frac{Pr(Y=2|X=x)}{Pr(Y=K|X=x)}}=\\beta_{20}+\\beta_{21}x_1+\\dots+\\beta_{2n}x_n$$<br>\n",
    "$$\\vdots$$<br>\n",
    "$$\\ln\\displaystyle{\\frac{Pr(Y=K-1|X=x)}{Pr(Y=K|X=x)}}=\\beta_{(K-1)0}+\\beta_{(K-1)1}x_1+\\dots+\\beta_{(K-1)n}x_n$$<br>\n",
    "\n",
    "Manipulating the equations above give the equations for the class probabilities of all classes except $K$:\n",
    "\n",
    "$$Pr(Y=1|X=x)=Pr(Y=K|X=x)\\exp(\\beta_{10}+\\beta_{11}x_1+\\dots+\\beta_{1n}x_n)$$<br>\n",
    "$$Pr(Y=2|X=x)=Pr(Y=K|X=x)\\exp(\\beta_{20}+\\beta_{21}x_1+\\dots+\\beta_{2n}x_n)$$<br>\n",
    "$$\\vdots$$<br>\n",
    "$$Pr(Y=K-1|X=x)=Pr(Y=K|X=x)\\exp(\\beta_{(K-1)0}+\\beta_{(K-1)1}x_1+\\dots+\\beta_{(K-1)n}x_n)$$<br>\n",
    "\n",
    "And because $\\displaystyle{\\sum_{k=1}^K}Pr(Y=k|X=x)=1$,\n",
    "\n",
    "$$Pr(Y=K|X=x)=1-\\displaystyle{\\sum_{k=1}^{K-1}Pr(Y=k|X=x)}$$<br>\n",
    "\n",
    "Plugging in the values for the other class probabilities,\n",
    "\n",
    "$$Pr(Y=K|X=x)=1-\\displaystyle{\\sum_{k=1}^{K-1}}Pr(Y=K|X=x)\\exp(\\beta_{k0}+\\beta_{k1}x_1+\\dots+\\beta_{kn}x_n)$$<br>\n",
    "$$Pr(Y=K|X=x)=1-Pr(Y=K|X=x)\\displaystyle{\\sum_{k=1}^{K-1}}\\exp(\\beta_{k0}+\\beta_{k1}x_1+\\dots+\\beta_{kn}x_n)$$<br>\n",
    "$$Pr(Y=K|X=x)+Pr(Y=K|X=x)\\displaystyle{\\sum_{k=1}^{K-1}}\\exp(\\beta_{k0}+\\beta_{k1}x_1+\\dots+\\beta_{kn}x_n)=1$$<br>\n",
    "$$Pr(Y=K|X=x)\\left(1+\\displaystyle{\\sum_{k=1}^{K-1}}\\exp(\\beta_{k0}+\\beta_{k1}x_1+\\dots+\\beta_{kn}x_n)\\right)=1$$<br>\n",
    "\n",
    "We get:\n",
    "\n",
    "$$Pr(Y=K|X=x)=\\displaystyle{\\frac{1}{1+\\sum_{k=1}^{K-1}\\exp(\\beta_{k0}+\\beta_{k1}x_1+\\dots+\\beta_{kn}x_n)}}$$<br>\n",
    "\n",
    "Plugging this equation into the set of equations for class probabilities of the other $K-1$ classes, we get:\n",
    "\n",
    "$$Pr(Y=k|X=x)=\\displaystyle{\\frac{\\exp(\\beta_{k0}+\\beta_{k1}x_1+\\dots+\\beta_{(kn}x_n)}{1+\\sum_{k=1}^{K-1}\\exp(\\beta_{k0}+\\beta_{k1}x_1+\\dots+\\beta_{kn}x_n)}}\\text{ for }k=1,\\dots,K-1$$"
   ]
  }
 ],
 "metadata": {
  "kernelspec": {
   "display_name": "Python 3",
   "language": "python",
   "name": "python3"
  },
  "language_info": {
   "codemirror_mode": {
    "name": "ipython",
    "version": 3
   },
   "file_extension": ".py",
   "mimetype": "text/x-python",
   "name": "python",
   "nbconvert_exporter": "python",
   "pygments_lexer": "ipython3",
   "version": "3.6.7"
  }
 },
 "nbformat": 4,
 "nbformat_minor": 2
}
